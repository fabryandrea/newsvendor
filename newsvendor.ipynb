{
 "cells": [
  {
   "cell_type": "markdown",
   "metadata": {},
   "source": [
    "# Newsvendor Models: How Many NFL Replica Jerseys to Order so that Profits Are Maximized?"
   ]
  },
  {
   "cell_type": "markdown",
   "metadata": {},
   "source": [
    "This notebook shows how to solve the NFL Replica Jerseys / Newsvendor problem in Python from the lectures in MITx's CTL.SC1x: Supply Chain Fundamentals. To take the course, please visit https://www.edx.org/micromasters/mitx-supply-chain-management.\n",
    "\n",
    "The problem is as follows: In 2002, Reebok had the sole rights to sell NFL football jerseys. Peak sales for the jerseys last about 8 weeks, while the lead time for manufacturing is 12-16 weeks. That means if sales take off in Week 1, it is already too late to order more jerseys. In short, Reebok had to commit to one order in advance, without knowing actual demand and without any ability to course correct after the order was placed.\n",
    "\n",
    "This is a classic case of the newsvendor problem. Newsvendor models are characterized by probabilistic demand and single period planning horizons. In order to model stochastic demand, we will use SciPy. "
   ]
  },
  {
   "cell_type": "code",
   "execution_count": 1,
   "metadata": {},
   "outputs": [],
   "source": [
    "# imports\n",
    "import numpy as np\n",
    "from scipy import stats\n",
    "from scipy.stats import norm"
   ]
  },
  {
   "cell_type": "markdown",
   "metadata": {},
   "source": [
    "## QUESTION: What Is the Ideal Order Size?"
   ]
  },
  {
   "cell_type": "markdown",
   "metadata": {},
   "source": [
    "Our variable of interest is Q*, the ideal order size that maximizes expected profits. \n",
    "\n",
    "In other words, how many football jerseys should I order, if I know:\n",
    "* how many jerseys sold historically;\n",
    "* that demand is stochastic (what demand materialized in the past may not show up again this year); \n",
    "* I cannot order extra jerseys if they prove to be popular this year;\n",
    "* that I still have to pay for every jersey I order, whether they are sold or not."
   ]
  },
  {
   "cell_type": "markdown",
   "metadata": {},
   "source": [
    "## Variables"
   ]
  },
  {
   "cell_type": "markdown",
   "metadata": {},
   "source": [
    "All price units are USD (`$`). History showed demand to be normally distributed with an average of `32,000` jerseys (and a $\\sigma$ of `11,000`)."
   ]
  },
  {
   "cell_type": "code",
   "execution_count": 2,
   "metadata": {},
   "outputs": [],
   "source": [
    "unit_cost = 10.90\n",
    "unit_price = 24.00\n",
    "ave_demand = 32000\n",
    "std_demand = 11000"
   ]
  },
  {
   "cell_type": "markdown",
   "metadata": {},
   "source": [
    "## How Do We Calculate Profits?"
   ]
  },
  {
   "cell_type": "markdown",
   "metadata": {},
   "source": [
    "First step is to find the profit. There are only two outcomes: either we overorder the jerseys and demand is less than what we ordered or we don't order enough and there's a shortage. Instead of expressing this in a nice mathematical equation, we will just use a simple function to calculate profits:"
   ]
  },
  {
   "cell_type": "code",
   "execution_count": 3,
   "metadata": {},
   "outputs": [],
   "source": [
    "def calculate_profit(cost, price, order, demand):\n",
    "    # outcome 1: didn't order enough\n",
    "    if order < demand:\n",
    "        amount = order\n",
    "    # outcome 2: less demand than expected\n",
    "    else:\n",
    "        amount = demand\n",
    "    return (unit_price * amount) - (unit_cost * order)"
   ]
  },
  {
   "cell_type": "markdown",
   "metadata": {},
   "source": [
    "The two ways to find ideal order size involve a data table and marginal analysis. I will not replicate here the sprawling Excel data table as a dataframe (although the code below can be used to create it). To warm up, let's start with some of the questions Professor Caplice poses while reviewing the Excel data table."
   ]
  },
  {
   "cell_type": "markdown",
   "metadata": {},
   "source": [
    "## Solving Single Period Model: Data Table"
   ]
  },
  {
   "cell_type": "markdown",
   "metadata": {},
   "source": [
    "### What is my profit if I have a demand of at least 4,000 jerseys and I ordered 25,000 total?"
   ]
  },
  {
   "cell_type": "code",
   "execution_count": 4,
   "metadata": {},
   "outputs": [
    {
     "name": "stdout",
     "output_type": "stream",
     "text": [
      "The profit/(loss): -176500.0\n"
     ]
    }
   ],
   "source": [
    "my_profit = calculate_profit(10.90, 24, 25000, 4000)\n",
    "print(\"The profit/(loss): {}\".format(my_profit)) # 177.000 in Excel (due to rounding)"
   ]
  },
  {
   "cell_type": "markdown",
   "metadata": {},
   "source": [
    "### What is the probability that my demand is going to be 8000 units or less?"
   ]
  },
  {
   "cell_type": "code",
   "execution_count": 5,
   "metadata": {},
   "outputs": [
    {
     "name": "stdout",
     "output_type": "stream",
     "text": [
      "The probability: 0.014561477076192526\n"
     ]
    }
   ],
   "source": [
    "# using scipy\n",
    "my_prob2 = norm.cdf(8000, ave_demand, std_demand)\n",
    "print(\"The probability: {}\".format(my_prob2)) # 1.5% in Excel"
   ]
  },
  {
   "cell_type": "code",
   "execution_count": 6,
   "metadata": {},
   "outputs": [
    {
     "name": "stdout",
     "output_type": "stream",
     "text": [
      "The probability with simulation: 0.014551\n"
     ]
    }
   ],
   "source": [
    "# using simulation\n",
    "\n",
    "# let's take a million samples out of the Normal distribution: samples\n",
    "samples = np.random.normal(ave_demand, std_demand, size=1000000) # samples is a list of possible demands\n",
    "\n",
    "# Compute the fraction that are less than or equal to 8000 units: prob\n",
    "my_prob = np.sum(samples <= 8000)/ len(samples)\n",
    "print(\"The probability with simulation: {}\".format(my_prob)) # roughly 1.5% again, but bit different"
   ]
  },
  {
   "cell_type": "markdown",
   "metadata": {},
   "source": [
    "## Solving Single Period Model: Marginal Analysis"
   ]
  },
  {
   "cell_type": "markdown",
   "metadata": {},
   "source": [
    "For marginal analysis, we use two costs: excess cost and shortage costs. They change depending on whether we are calculating costs for the wholesaler, the retailer, or the channel. We will later extend these costs with salvage values and penalties for not meeting demand."
   ]
  },
  {
   "cell_type": "markdown",
   "metadata": {},
   "source": [
    "### Marginal analysis for retailer profit without salvage cost or penalty"
   ]
  },
  {
   "cell_type": "code",
   "execution_count": 7,
   "metadata": {},
   "outputs": [],
   "source": [
    "# shortage cost for now\n",
    "shortage_cost = unit_price - unit_cost\n",
    "# excess cost for now\n",
    "excess_cost = unit_cost\n",
    "# the critical ratio captures the trade-off\n",
    "critical_ratio = shortage_cost / (excess_cost + shortage_cost)"
   ]
  },
  {
   "cell_type": "code",
   "execution_count": 8,
   "metadata": {},
   "outputs": [
    {
     "name": "stdout",
     "output_type": "stream",
     "text": [
      "The ideal order size: 33267.0\n"
     ]
    }
   ],
   "source": [
    "# find Q* where the probability of my demand being less or equal to order equals CR\n",
    "my_q1 = np.ceil(norm.ppf(critical_ratio, ave_demand, std_demand))\n",
    "print(\"The ideal order size: {}\".format(my_q1)) # should give 33,267"
   ]
  },
  {
   "cell_type": "markdown",
   "metadata": {},
   "source": [
    "### Marginal cost for retailer profit with salvage cost"
   ]
  },
  {
   "cell_type": "code",
   "execution_count": 9,
   "metadata": {},
   "outputs": [],
   "source": [
    "# new variable\n",
    "salvage_price = 7.00\n",
    "\n",
    "# shortage cost for now\n",
    "shortage_cost = unit_price - unit_cost\n",
    "# excess cost for now\n",
    "excess_cost_salvage = unit_cost - salvage_price\n",
    "# the critical ratio captures the trade-off\n",
    "critical_ratio_salvage = shortage_cost / (excess_cost_salvage + shortage_cost)"
   ]
  },
  {
   "cell_type": "code",
   "execution_count": 10,
   "metadata": {},
   "outputs": [
    {
     "name": "stdout",
     "output_type": "stream",
     "text": [
      "The ideal order size with salvage value: 40149.0\n"
     ]
    }
   ],
   "source": [
    "# find Q* where the probability of my demand being less or equal to order equals CR\n",
    "my_q2 = np.ceil(norm.ppf(critical_ratio_salvage, ave_demand, std_demand))\n",
    "print(\"The ideal order size with salvage value: {}\".format(my_q2)) # should give 40,149"
   ]
  },
  {
   "cell_type": "markdown",
   "metadata": {},
   "source": [
    "## Single Period Inventory Models: Calculating Expected Profitability"
   ]
  },
  {
   "cell_type": "markdown",
   "metadata": {},
   "source": [
    "I will not do the calculations for the discrete case (\"freshly baked widgets\") -- they can be found in the widgets.py document in the repo."
   ]
  },
  {
   "cell_type": "markdown",
   "metadata": {},
   "source": [
    "## Expected Units Short"
   ]
  },
  {
   "cell_type": "code",
   "execution_count": 11,
   "metadata": {},
   "outputs": [],
   "source": [
    "def calculate_expected_units(order_size, mu, sigma):\n",
    "    k = (order_size - mu)/sigma\n",
    "    gk = norm.pdf(k, 0, 1) - (k * norm.sf(k))\n",
    "    exp_us = gk * sigma # this np.ceil needs to be fixed !!!!\n",
    "    return (exp_us)"
   ]
  },
  {
   "cell_type": "markdown",
   "metadata": {},
   "source": [
    "To calculate expected units short for normally distributed widgets `~N(160, 45)` and a Q of `190`:"
   ]
  },
  {
   "cell_type": "code",
   "execution_count": 12,
   "metadata": {},
   "outputs": [
    {
     "name": "stdout",
     "output_type": "stream",
     "text": [
      "The expected unit for normal example is: 6.800384122098165.\n"
     ]
    }
   ],
   "source": [
    "example = calculate_expected_units(190, 160, 45)\n",
    "print(\"The expected unit for normal example is: {}.\".format(example))"
   ]
  },
  {
   "cell_type": "markdown",
   "metadata": {},
   "source": [
    "## Returning to Tom Brady and the Problem of NFL Replica Jerseys"
   ]
  },
  {
   "cell_type": "markdown",
   "metadata": {},
   "source": [
    "We are now looking at two cases. Case 1 has no salvage value and an ideal order size of `33,267`. Case 2 has a salvage value of `$7.00` and an ideal order size of `40,169`. What is the expected profit for each case? In order to calculate that, we will need another function besides calculating expected units short: calculating expected profit."
   ]
  },
  {
   "cell_type": "code",
   "execution_count": 13,
   "metadata": {},
   "outputs": [],
   "source": [
    "def calculate_expected_profits(price, salvage, cost, penalty, order_size, mu, sigma):\n",
    "    exp_us = calculate_expected_units(order_size, mu, sigma)\n",
    "    return (price-salvage)*mu - ((cost-salvage)*order_size) - ((price-salvage+penalty)*exp_us)"
   ]
  },
  {
   "cell_type": "code",
   "execution_count": 14,
   "metadata": {},
   "outputs": [
    {
     "name": "stdout",
     "output_type": "stream",
     "text": [
      "The expected profit without salvage value: 314576.0\n"
     ]
    }
   ],
   "source": [
    "# solving CASE 1:\n",
    "salvage_value1 = 0\n",
    "exp_us1 = np.ceil(calculate_expected_units(my_q1, ave_demand, std_demand))\n",
    "my_exp_prof1 = np.ceil(calculate_expected_profits(unit_price, salvage_value1, \\\n",
    "                unit_cost, 0, my_q1, ave_demand, std_demand))\n",
    "print(\"The expected profit without salvage value: {}\".format(my_exp_prof1)) \n",
    "# $314,550 when using the standard normal table ($26 difference)"
   ]
  },
  {
   "cell_type": "code",
   "execution_count": 15,
   "metadata": {},
   "outputs": [
    {
     "name": "stdout",
     "output_type": "stream",
     "text": [
      "The expected profit with salvage value: 362500.0\n"
     ]
    }
   ],
   "source": [
    "# Solving CASE 2:\n",
    "salvage_value2 = 7.00\n",
    "exp_us2 = np.ceil(calculate_expected_units(my_q2, ave_demand, std_demand))\n",
    "my_exp_prof2 = np.ceil(calculate_expected_profits(unit_price, salvage_value2, \\\n",
    "                unit_cost, 0, my_q2, ave_demand, std_demand))\n",
    "print(\"The expected profit with salvage value: {}\".format(my_exp_prof2))\n",
    "# $362,514 when using the standard normal table ($14 difference)"
   ]
  },
  {
   "cell_type": "markdown",
   "metadata": {},
   "source": [
    "## Extending the Case with Optimization-Based Procurement"
   ]
  },
  {
   "cell_type": "markdown",
   "metadata": {},
   "source": [
    "Taking this case study further, what would our ideal order size be if we created some sort of risk-sharing contract  based on channel profit maximization? (This will be only covered in CTL.SC2x: Supply Chain Design but it's worth exploring briefly here.) First, let's return to the concepts of excess and shortage costs."
   ]
  },
  {
   "cell_type": "markdown",
   "metadata": {},
   "source": [
    "For the manufacturer, excess costs or shortage costs do not exist because they take no risk. The higher the order size, the bigger the manufacturer's profit. (Profit is a linear equation that goes up with the profit margin for every unit of Q)."
   ]
  },
  {
   "cell_type": "markdown",
   "metadata": {},
   "source": [
    "For the retailer, excess and shortage costs are the same as you see above:"
   ]
  },
  {
   "cell_type": "code",
   "execution_count": 16,
   "metadata": {},
   "outputs": [
    {
     "name": "stdout",
     "output_type": "stream",
     "text": [
      "The ideal order size with salvage value is still: 40149.0\n",
      "The expected profit for the retailer with salvage value is: 362500.0\n"
     ]
    }
   ],
   "source": [
    "# repeating from marginal cost with salvage\n",
    "\n",
    "# shortage cost: price - cost\n",
    "shortage_cost = unit_price - unit_cost\n",
    "# excess cost: cost - salvage\n",
    "excess_cost_salvage = unit_cost - salvage_price\n",
    "# the critical ratio captures the trade-off\n",
    "critical_ratio_salvage = shortage_cost / (excess_cost_salvage + shortage_cost)\n",
    "print(\"The ideal order size with salvage value is still: {}\".format(my_q2)) # should give 40,149\n",
    "print(\"The expected profit for the retailer with salvage value is: {}\".format(my_exp_prof2))"
   ]
  },
  {
   "cell_type": "markdown",
   "metadata": {},
   "source": [
    "At this level, the channel makes the combination of the retailer's profit and the manufacturer's profit combined:"
   ]
  },
  {
   "cell_type": "code",
   "execution_count": 17,
   "metadata": {},
   "outputs": [
    {
     "name": "stdout",
     "output_type": "stream",
     "text": [
      "The ideal order size is: 40149.0\n",
      "The retailer's profit is: 362500.0\n",
      "The manufacturer's profit is: 321192.0\n",
      "Total channel profit is: 683692.0\n"
     ]
    }
   ],
   "source": [
    "# new variable: the manufacturer's cost\n",
    "base_cost = 2.90\n",
    "\n",
    "man_exp_prof1 = my_q2 * (unit_cost - base_cost)\n",
    "print(\"The ideal order size is: {}\".format(my_q2))\n",
    "print(\"The retailer's profit is: {}\".format(my_exp_prof2))\n",
    "print(\"The manufacturer's profit is: {}\".format(man_exp_prof1))\n",
    "print(\"Total channel profit is: {}\".format(my_exp_prof2 + man_exp_prof1))"
   ]
  },
  {
   "cell_type": "markdown",
   "metadata": {},
   "source": [
    "For the whole channel, the shortage cost is the price that product sells for minus the lowest cost in the channel (the manufacturer's cost). The excess cost is still the same."
   ]
  },
  {
   "cell_type": "code",
   "execution_count": 18,
   "metadata": {},
   "outputs": [
    {
     "name": "stdout",
     "output_type": "stream",
     "text": [
      "The ideal order size with salvage value for the whole channel is: 43122.0\n",
      "The expected profit of the retailer is lower: 360571.0\n",
      "Total channel profit is: 705547.0\n"
     ]
    }
   ],
   "source": [
    "# shortage cost for now\n",
    "shortage_cost_channel = unit_price - base_cost\n",
    "# excess cost for now\n",
    "excess_cost_salvage = unit_cost - salvage_price\n",
    "# the critical ratio captures the trade-off\n",
    "critical_ratio_salvage_channel = shortage_cost_channel / (excess_cost_salvage + shortage_cost_channel)\n",
    "\n",
    "# finding ideal order size\n",
    "my_q3 = np.ceil(norm.ppf(critical_ratio_salvage_channel, ave_demand, std_demand))\n",
    "print(\"The ideal order size with salvage value for the whole channel is: {}\".format(my_q3))\n",
    "\n",
    "# finding expected profits for the channel\n",
    "my_exp_prof3 = np.ceil(calculate_expected_profits(unit_price, salvage_value2, \\\n",
    "                unit_cost, 0, my_q3, ave_demand, std_demand))\n",
    "print(\"The expected profit of the retailer is lower: {}\".format(my_exp_prof3))\n",
    "\n",
    "# finding manufacturer profits at this level\n",
    "man_exp_prof2 = my_q3 * (unit_cost - base_cost)\n",
    "print(\"Total channel profit is: {}\".format(man_exp_prof2+my_exp_prof3))"
   ]
  },
  {
   "cell_type": "markdown",
   "metadata": {},
   "source": [
    "That's `$21,855` higher than before! However, the retailer now makes less of a profit. So how can the manufacturer convince the retailer to move towards this higher order size? By proposing one of the following:\n",
    "* buyback contract;\n",
    "* revenue sharing contract; or\n",
    "* options. <br>\n",
    "We will only explore buyback contracts here -- for the others, see the lectures by Professor Yossi Sheffi."
   ]
  },
  {
   "cell_type": "markdown",
   "metadata": {},
   "source": [
    "To find the ideal buyback contract price, use the formula below. The ideal order size and expected channel profit will not change, however, the profit will be split differently between the retailer and the manufacturer, resulting in `$75,541` higher profit for the retailer!"
   ]
  },
  {
   "cell_type": "code",
   "execution_count": 21,
   "metadata": {},
   "outputs": [
    {
     "name": "stdout",
     "output_type": "stream",
     "text": [
      "The optimal buyback price is 13.45\n",
      "The ideal order size with salvage value for the whole channel is: 43122.0\n",
      "Total channel profit is: 783017.0\n",
      "The retailer's profit is now: 438041.0\n",
      "The manufacturer's profit is now: 344976.0\n"
     ]
    }
   ],
   "source": [
    "# buyback contract\n",
    "buyback_price = (((unit_price - salvage_price) / (unit_price - base_cost)) * unit_cost) \\\n",
    "                - ((unit_price*(base_cost - salvage_price)) / (unit_price - base_cost))\n",
    "\n",
    "my_exp_prof4 = np.ceil(calculate_expected_profits(unit_price, buyback_price, \\\n",
    "                unit_cost, 0, my_q3, ave_demand, std_demand))\n",
    "\n",
    "print(\"The optimal buyback price is {}\".format(round(buyback_price, 2)))\n",
    "print(\"The ideal order size with salvage value for the whole channel is: {}\".format(my_q3))\n",
    "print(\"Total channel profit is: {}\".format(man_exp_prof2+my_exp_prof4))\n",
    "print(\"The retailer's profit is now: {}\".format(my_exp_prof4)) # previously it was $362,500\n",
    "print(\"The manufacturer's profit is now: {}\".format(man_exp_prof2)) # previously it was $321,192"
   ]
  },
  {
   "cell_type": "markdown",
   "metadata": {},
   "source": [
    "This is win-win! Our retailer is now making `$75,541` and our manufacturer is making `$23,784` more in profits."
   ]
  }
 ],
 "metadata": {
  "kernelspec": {
   "display_name": "Python 3",
   "language": "python",
   "name": "python3"
  },
  "language_info": {
   "codemirror_mode": {
    "name": "ipython",
    "version": 3
   },
   "file_extension": ".py",
   "mimetype": "text/x-python",
   "name": "python",
   "nbconvert_exporter": "python",
   "pygments_lexer": "ipython3",
   "version": "3.7.0"
  }
 },
 "nbformat": 4,
 "nbformat_minor": 2
}
